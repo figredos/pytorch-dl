{
 "cells": [
  {
   "cell_type": "markdown",
   "metadata": {},
   "source": [
    "# Tensor operations in PyTorch\n",
    "\n",
    "Basic look into the operations with tensors in PyTorch.\n",
    "\n",
    "- [Manipulating tensor](#manipulating-tensors)\n",
    "  - [Matrix multiplication](#matrix-multiplication)\n",
    "    - [Dot product rules](#dot-product-rules)\n",
    "- [Tensor Aggregation](#tensor-aggregation)\n"
   ]
  },
  {
   "cell_type": "code",
   "execution_count": 14,
   "metadata": {},
   "outputs": [],
   "source": [
    "# Importing packages\n",
    "import torch\n",
    "import pandas as pd\n",
    "import numpy as np\n",
    "import matplotlib.pyplot as plt"
   ]
  },
  {
   "cell_type": "code",
   "execution_count": 15,
   "metadata": {},
   "outputs": [],
   "source": [
    "# Setting device to mac gpu\n",
    "torch.set_default_device('mps')"
   ]
  },
  {
   "cell_type": "markdown",
   "metadata": {},
   "source": [
    "## Manipulating tensors\n",
    "\n",
    "Tensor operations include:\n",
    "\n",
    "- Addition\n",
    "- Subtraction\n",
    "- Division\n",
    "- scalar multiplication\n",
    "- element-wise multiplication\n",
    "- dot-product\n",
    "\n",
    "These operations are the core of Deep Learning, it's all a bunch of linear algebra.\n"
   ]
  },
  {
   "cell_type": "code",
   "execution_count": 16,
   "metadata": {},
   "outputs": [
    {
     "data": {
      "text/plain": [
       "tensor([1., 2., 3.], device='mps:0')"
      ]
     },
     "execution_count": 16,
     "metadata": {},
     "output_type": "execute_result"
    }
   ],
   "source": [
    "# Creating tensor\n",
    "tensor = torch.tensor([1.0, 2.0, 3.0])\n",
    "tensor"
   ]
  },
  {
   "cell_type": "code",
   "execution_count": 17,
   "metadata": {},
   "outputs": [
    {
     "data": {
      "text/plain": [
       "tensor([11., 12., 13.], device='mps:0')"
      ]
     },
     "execution_count": 17,
     "metadata": {},
     "output_type": "execute_result"
    }
   ],
   "source": [
    "# Addition\n",
    "tensor + 10"
   ]
  },
  {
   "cell_type": "code",
   "execution_count": 18,
   "metadata": {},
   "outputs": [
    {
     "data": {
      "text/plain": [
       "tensor([11., 12., 13.], device='mps:0')"
      ]
     },
     "execution_count": 18,
     "metadata": {},
     "output_type": "execute_result"
    }
   ],
   "source": [
    "# Same operation\n",
    "tensor.add(10)"
   ]
  },
  {
   "cell_type": "code",
   "execution_count": 19,
   "metadata": {},
   "outputs": [
    {
     "data": {
      "text/plain": [
       "tensor([10., 20., 30.], device='mps:0')"
      ]
     },
     "execution_count": 19,
     "metadata": {},
     "output_type": "execute_result"
    }
   ],
   "source": [
    "# Scalar multiplication by 10\n",
    "tensor * 10"
   ]
  },
  {
   "cell_type": "code",
   "execution_count": 20,
   "metadata": {},
   "outputs": [
    {
     "data": {
      "text/plain": [
       "tensor([10., 20., 30.], device='mps:0')"
      ]
     },
     "execution_count": 20,
     "metadata": {},
     "output_type": "execute_result"
    }
   ],
   "source": [
    "# Same operation\n",
    "tensor.mul(10)"
   ]
  },
  {
   "cell_type": "code",
   "execution_count": 21,
   "metadata": {},
   "outputs": [
    {
     "data": {
      "text/plain": [
       "tensor([-9., -8., -7.], device='mps:0')"
      ]
     },
     "execution_count": 21,
     "metadata": {},
     "output_type": "execute_result"
    }
   ],
   "source": [
    "# Subtracting\n",
    "tensor - 10"
   ]
  },
  {
   "cell_type": "code",
   "execution_count": 22,
   "metadata": {},
   "outputs": [
    {
     "data": {
      "text/plain": [
       "tensor([-9., -8., -7.], device='mps:0')"
      ]
     },
     "execution_count": 22,
     "metadata": {},
     "output_type": "execute_result"
    }
   ],
   "source": [
    "# Same operation\n",
    "tensor.sub(10)"
   ]
  },
  {
   "cell_type": "markdown",
   "metadata": {},
   "source": [
    "As shown above, the basic operations all have corresponding functions that perform the same operation. It's preferable to use the python operator's due to readability.\n"
   ]
  },
  {
   "cell_type": "markdown",
   "metadata": {},
   "source": [
    "### Matrix multiplication\n",
    "\n",
    "Two main ways of performing multiplication in linear algebra, element-wise multiplication and dot-product.\n",
    "\n",
    "- **_Element-wise multiplication_** (or Hadamard product) is applied between two tensors, and the multiplication happens element by element. If two tensors are of the same shape, each element in the first tensor is multiplied by the corresponding element in the second tensor.\n",
    "\n",
    "$$\\begin{pmatrix}1 & 2 & 3\\\\4 & 5 & 6\\end{pmatrix}_{2\\times3} \\circ \\begin{pmatrix}7 & 8 & 9\\\\10 & 11 & 12\\end{pmatrix}_{2\\times3} =$$\n",
    "$$\\begin{pmatrix}1\\times7 & 2\\times8 & 3\\times9\\\\4\\times10 & 5\\times11 & \\times12\\end{pmatrix}_{2\\times3} = $$\n",
    "$$\\begin{pmatrix}7 & 16 & 27\\\\40 & 55 & 72\\end{pmatrix}\\_{2\\times3}$$\n",
    "\n",
    "- **_Dot-product_** (or Matrix Multiplication) is the most common way of multiplying tensors. We multiply the matching members, then sum up.\n",
    "\n",
    "$$\\begin{pmatrix}1 & 2 & 3\\\\4 & 5 & 6\\end{pmatrix}_{2\\times3} \\cdot \\begin{pmatrix}7 & 8 \\\\9 & 10 \\\\ 11 & 12\\end{pmatrix}_{3\\times2} =$$\n",
    "$$\\begin{pmatrix}1\\times7 + 2\\times9 + 3\\times11 & 1\\times8 + 2\\times10 + 3\\times12 \\\\4\\times7 + 5\\times9 + 6\\times11 & 4\\times8 + 5\\times10 + 6\\times12\\end{pmatrix}_{2\\times2} = $$\n",
    "$$\\begin{pmatrix}58 & 64 \\\\ 139 & 154\\end{pmatrix}\\_{2\\times2}$$\n"
   ]
  },
  {
   "cell_type": "code",
   "execution_count": 23,
   "metadata": {},
   "outputs": [
    {
     "data": {
      "text/plain": [
       "tensor([1., 4., 9.], device='mps:0')"
      ]
     },
     "execution_count": 23,
     "metadata": {},
     "output_type": "execute_result"
    }
   ],
   "source": [
    "# Element-wise multiplication\n",
    "tensor * tensor"
   ]
  },
  {
   "cell_type": "code",
   "execution_count": 24,
   "metadata": {},
   "outputs": [
    {
     "data": {
      "text/plain": [
       "tensor(14., device='mps:0')"
      ]
     },
     "execution_count": 24,
     "metadata": {},
     "output_type": "execute_result"
    }
   ],
   "source": [
    "# Matrix multiplication\n",
    "tensor.matmul(tensor)"
   ]
  },
  {
   "cell_type": "markdown",
   "metadata": {},
   "source": [
    "For our tensor the matrix multiplication with itself is:\n",
    "\n",
    "$$\\begin{pmatrix} 1 & 2 & 3\\end{pmatrix} \\cdot \\begin{pmatrix} 1 & 2 & 3\\end{pmatrix}^T$$\n",
    "\n",
    "- Since the tensor is multiplying with itself, it has to be transposed. Since the input is 1D, PyTorch will transpose before performing the operation.\n",
    "\n",
    "$$\\begin{pmatrix} 1 \\times 1 + 2 \\times 2 + 3 \\times3 \\end{pmatrix} = $$\n",
    "\n",
    "$$(14)$$\n"
   ]
  },
  {
   "cell_type": "code",
   "execution_count": 27,
   "metadata": {},
   "outputs": [
    {
     "data": {
      "text/plain": [
       "tensor(14., device='mps:0')"
      ]
     },
     "execution_count": 27,
     "metadata": {},
     "output_type": "execute_result"
    }
   ],
   "source": [
    "# Matrix multiplication with operator '@'\n",
    "tensor @ tensor"
   ]
  },
  {
   "cell_type": "markdown",
   "metadata": {},
   "source": [
    "Timing operations by hand and using torch functions\n"
   ]
  },
  {
   "cell_type": "code",
   "execution_count": 25,
   "metadata": {},
   "outputs": [
    {
     "name": "stdout",
     "output_type": "stream",
     "text": [
      "CPU times: user 8.01 ms, sys: 1.49 ms, total: 9.5 ms\n",
      "Wall time: 8.33 ms\n"
     ]
    },
    {
     "data": {
      "text/plain": [
       "tensor(14., device='mps:0')"
      ]
     },
     "execution_count": 25,
     "metadata": {},
     "output_type": "execute_result"
    }
   ],
   "source": [
    "%%time\n",
    "value = 0\n",
    "for i in range(len(tensor)):\n",
    "    value += tensor[i] * tensor[i]\n",
    "value"
   ]
  },
  {
   "cell_type": "code",
   "execution_count": 26,
   "metadata": {},
   "outputs": [
    {
     "name": "stdout",
     "output_type": "stream",
     "text": [
      "CPU times: user 293 μs, sys: 212 μs, total: 505 μs\n",
      "Wall time: 275 μs\n"
     ]
    },
    {
     "data": {
      "text/plain": [
       "tensor(14., device='mps:0')"
      ]
     },
     "execution_count": 26,
     "metadata": {},
     "output_type": "execute_result"
    }
   ],
   "source": [
    "%%time\n",
    "tensor.matmul(tensor)"
   ]
  },
  {
   "cell_type": "markdown",
   "metadata": {},
   "source": [
    "#### Dot product rules\n",
    "\n",
    "Dot product also has some rules that need to be followed in order for a successful operation:\n",
    "\n",
    "1. The **_inner_** dimensions must match\n",
    "   - $2\\times3$ and $3\\times2$ match.\n",
    "   - $2\\times3$ and $2\\times3$ don't.\n",
    "2. The resulting matrix has the shape of the **_outer_** dimensions.\n",
    "   - $2\\times3$ and $3\\times2$ output $3\\times3$.\n",
    "   - $3\\times2$ and $2\\times3$ output $2\\times2$.\n",
    "   - $3\\times1$ and $1\\times3$ output $1\\times1$ (scalar).\n"
   ]
  },
  {
   "cell_type": "code",
   "execution_count": null,
   "metadata": {},
   "outputs": [
    {
     "data": {
      "text/plain": [
       "tensor([[0.2605, 0.1980, 0.2973],\n",
       "        [0.4970, 0.5551, 0.7661],\n",
       "        [0.3733, 0.5208, 0.6919]], device='mps:0')"
      ]
     },
     "execution_count": 31,
     "metadata": {},
     "output_type": "execute_result"
    }
   ],
   "source": [
    "# Multiplying matrices\n",
    "torch.matmul(torch.rand(3, 2), torch.rand(2, 3))"
   ]
  },
  {
   "cell_type": "markdown",
   "metadata": {},
   "source": [
    "You can use `matmul` or `mm` kind of interchangeably for 2D tensors. The difference is `mm` doesn't do broadcasting.\n"
   ]
  },
  {
   "cell_type": "code",
   "execution_count": null,
   "metadata": {},
   "outputs": [
    {
     "data": {
      "text/plain": [
       "tensor([[10.4685, 12.1434, 11.1493,  8.2612, 11.0989,  9.1639, 10.0399],\n",
       "        [ 9.1047, 11.0180,  8.9983,  7.8798,  9.8034,  8.2894,  9.9635]],\n",
       "       device='mps:0')"
      ]
     },
     "execution_count": 37,
     "metadata": {},
     "output_type": "execute_result"
    }
   ],
   "source": [
    "# Multiplying matrices using .mm\n",
    "torch.matmul(torch.rand(2, 42), torch.rand(42, 7))"
   ]
  },
  {
   "cell_type": "markdown",
   "metadata": {},
   "source": [
    "In order to multiply two matrices of same shape (without them being square, $n\\times n$) you need to transpose one of them. A transpose switches the axes or dimensions of a given tensor.\n"
   ]
  },
  {
   "cell_type": "code",
   "execution_count": 47,
   "metadata": {},
   "outputs": [
    {
     "data": {
      "text/plain": [
       "tensor([[0.5316, 1.1483, 1.1191],\n",
       "        [0.4536, 1.1741, 0.8876],\n",
       "        [0.4417, 0.7525, 0.6905]], device='mps:0')"
      ]
     },
     "execution_count": 47,
     "metadata": {},
     "output_type": "execute_result"
    }
   ],
   "source": [
    "# Transposing matrix\n",
    "torch.matmul(torch.rand(3, 4), torch.rand(3, 4).T)"
   ]
  },
  {
   "cell_type": "code",
   "execution_count": null,
   "metadata": {},
   "outputs": [],
   "source": [
    "# Creating matrices\n",
    "tensor_a = torch.tensor(\n",
    "    [\n",
    "        [1.0, 2.0],\n",
    "        [3.0, 4.0],\n",
    "        [5.0, 6.0],\n",
    "    ],\n",
    ")\n",
    "\n",
    "tensor_b = torch.tensor(\n",
    "    [\n",
    "        [7.0, 8.0],\n",
    "        [9.0, 10.0],\n",
    "        [11.0, 12.0],\n",
    "    ],\n",
    ")"
   ]
  },
  {
   "cell_type": "code",
   "execution_count": null,
   "metadata": {},
   "outputs": [
    {
     "data": {
      "text/plain": [
       "tensor([[ 23.,  29.,  35.],\n",
       "        [ 53.,  67.,  81.],\n",
       "        [ 83., 105., 127.]], device='mps:0')"
      ]
     },
     "execution_count": 43,
     "metadata": {},
     "output_type": "execute_result"
    }
   ],
   "source": [
    "# Transposing tensor b to multiply with tensor a\n",
    "tensor_a.matmul(tensor_b.T)"
   ]
  },
  {
   "cell_type": "code",
   "execution_count": null,
   "metadata": {},
   "outputs": [
    {
     "data": {
      "text/plain": [
       "tensor([[ 89., 116.],\n",
       "        [ 98., 128.]], device='mps:0')"
      ]
     },
     "execution_count": 45,
     "metadata": {},
     "output_type": "execute_result"
    }
   ],
   "source": [
    "# Multiplying transposed tensor b with tensor a\n",
    "tensor_b.T.matmul(tensor_a)"
   ]
  },
  {
   "cell_type": "markdown",
   "metadata": {},
   "source": [
    "## Tensor Aggregation\n",
    "\n",
    "Operations such as Min, Max, Mean and Sum, arg Max, arg Min.\n",
    "\n",
    "Most of the aggregation methods have two ways of getting these aggregation methods, either by using `torch.<aggregator function>(<tensor>)` or `<tensor>.<aggregation function>()`.\n"
   ]
  },
  {
   "cell_type": "code",
   "execution_count": 77,
   "metadata": {},
   "outputs": [
    {
     "data": {
      "text/plain": [
       "tensor([ 0., 10., 20., 30., 40., 50., 60., 70., 80., 90.], device='mps:0')"
      ]
     },
     "execution_count": 77,
     "metadata": {},
     "output_type": "execute_result"
    }
   ],
   "source": [
    "# Create tensor\n",
    "x = torch.arange(0, 100, 10, dtype=torch.float32)\n",
    "x"
   ]
  },
  {
   "cell_type": "code",
   "execution_count": 76,
   "metadata": {},
   "outputs": [],
   "source": [
    "x = torch.arange(0, 100, 10, dtype=torch.float32)"
   ]
  },
  {
   "cell_type": "code",
   "execution_count": 51,
   "metadata": {},
   "outputs": [
    {
     "data": {
      "text/plain": [
       "(tensor(0., device='mps:0'), tensor(0., device='mps:0'))"
      ]
     },
     "execution_count": 51,
     "metadata": {},
     "output_type": "execute_result"
    }
   ],
   "source": [
    "# Finding the min\n",
    "torch.min(x), x.min()"
   ]
  },
  {
   "cell_type": "code",
   "execution_count": 52,
   "metadata": {},
   "outputs": [
    {
     "data": {
      "text/plain": [
       "(tensor(90., device='mps:0'), tensor(90., device='mps:0'))"
      ]
     },
     "execution_count": 52,
     "metadata": {},
     "output_type": "execute_result"
    }
   ],
   "source": [
    "# Finding the max\n",
    "torch.max(x), x.max()"
   ]
  },
  {
   "cell_type": "code",
   "execution_count": 53,
   "metadata": {},
   "outputs": [
    {
     "data": {
      "text/plain": [
       "(tensor(45., device='mps:0'), tensor(45., device='mps:0'))"
      ]
     },
     "execution_count": 53,
     "metadata": {},
     "output_type": "execute_result"
    }
   ],
   "source": [
    "# Finding mean\n",
    "torch.mean(x), x.mean()"
   ]
  },
  {
   "cell_type": "code",
   "execution_count": 54,
   "metadata": {},
   "outputs": [
    {
     "data": {
      "text/plain": [
       "(tensor(450., device='mps:0'), tensor(450., device='mps:0'))"
      ]
     },
     "execution_count": 54,
     "metadata": {},
     "output_type": "execute_result"
    }
   ],
   "source": [
    "# Getting sum\n",
    "torch.sum(x), x.sum()"
   ]
  },
  {
   "cell_type": "code",
   "execution_count": 55,
   "metadata": {},
   "outputs": [
    {
     "data": {
      "text/plain": [
       "(tensor(0, device='mps:0'), tensor(0, device='mps:0'))"
      ]
     },
     "execution_count": 55,
     "metadata": {},
     "output_type": "execute_result"
    }
   ],
   "source": [
    "# Getting index of min\n",
    "torch.argmin(x), x.argmin()"
   ]
  },
  {
   "cell_type": "code",
   "execution_count": 56,
   "metadata": {},
   "outputs": [
    {
     "data": {
      "text/plain": [
       "(tensor(9, device='mps:0'), tensor(9, device='mps:0'))"
      ]
     },
     "execution_count": 56,
     "metadata": {},
     "output_type": "execute_result"
    }
   ],
   "source": [
    "# Getting index of max\n",
    "torch.argmax(x), x.argmax()"
   ]
  }
 ],
 "metadata": {
  "kernelspec": {
   "display_name": "Python 3",
   "language": "python",
   "name": "python3"
  },
  "language_info": {
   "codemirror_mode": {
    "name": "ipython",
    "version": 3
   },
   "file_extension": ".py",
   "mimetype": "text/x-python",
   "name": "python",
   "nbconvert_exporter": "python",
   "pygments_lexer": "ipython3",
   "version": "3.11.11"
  }
 },
 "nbformat": 4,
 "nbformat_minor": 2
}

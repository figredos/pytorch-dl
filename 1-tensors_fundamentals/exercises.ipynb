{
 "cells": [
  {
   "cell_type": "markdown",
   "metadata": {},
   "source": [
    "# Exercises\n",
    "\n",
    "Exercises to practice the subjects of the PyTorch fundamentals folder.\n"
   ]
  },
  {
   "cell_type": "code",
   "execution_count": 1,
   "metadata": {},
   "outputs": [],
   "source": [
    "# Importing packages\n",
    "import torch\n",
    "import numpy"
   ]
  },
  {
   "cell_type": "code",
   "execution_count": 2,
   "metadata": {},
   "outputs": [],
   "source": [
    "# Setting default device\n",
    "torch.set_default_device('mps')"
   ]
  },
  {
   "cell_type": "markdown",
   "metadata": {},
   "source": [
    "## 1\n",
    "\n",
    "Documentation reading - A big part of deep learning (and learning to code in general) is getting familiar with the documentation of a certain framework you're using. We'll be using the PyTorch documentation a lot throughout the rest of this course. So I'd recommend spending 10-minutes reading the following (it's okay if you don't get some things for now, the focus is not yet full understanding, it's awareness). See the documentation on torch.Tensor and for torch.cuda.\n"
   ]
  },
  {
   "cell_type": "markdown",
   "metadata": {},
   "source": [
    "## 2\n",
    "\n",
    "Create a random tensor with shape (7, 7).\n"
   ]
  },
  {
   "cell_type": "code",
   "execution_count": 3,
   "metadata": {},
   "outputs": [
    {
     "data": {
      "text/plain": [
       "tensor([[0.9917, 0.1755, 0.4501, 0.8871, 0.3445, 0.2157, 0.8634],\n",
       "        [0.7092, 0.0796, 0.2538, 0.0507, 0.1617, 0.2349, 0.1470],\n",
       "        [0.9398, 0.8122, 0.0078, 0.9711, 0.1516, 0.8971, 0.8791],\n",
       "        [0.8631, 0.6614, 0.7879, 0.1322, 0.8097, 0.6582, 0.2615],\n",
       "        [0.9254, 0.3108, 0.0495, 0.7791, 0.8235, 0.3597, 0.9866],\n",
       "        [0.1090, 0.3915, 0.7343, 0.1211, 0.8605, 0.4651, 0.3654],\n",
       "        [0.3672, 0.3880, 0.3710, 0.0138, 0.6769, 0.3204, 0.6848]],\n",
       "       device='mps:0')"
      ]
     },
     "execution_count": 3,
     "metadata": {},
     "output_type": "execute_result"
    }
   ],
   "source": [
    "# Creating random tensor\n",
    "random_tensor = torch.rand((7, 7))\n",
    "random_tensor"
   ]
  },
  {
   "cell_type": "markdown",
   "metadata": {},
   "source": [
    "## 3\n",
    "\n",
    "Perform a matrix multiplication on the tensor from 2 with another random tensor with shape (1, 7) (hint: you may have to transpose the second tensor).\n"
   ]
  },
  {
   "cell_type": "code",
   "execution_count": 4,
   "metadata": {},
   "outputs": [
    {
     "data": {
      "text/plain": [
       "tensor([[0.4418, 0.4894, 0.7160, 0.1267, 0.6094, 0.6942, 0.1281]],\n",
       "       device='mps:0')"
      ]
     },
     "execution_count": 4,
     "metadata": {},
     "output_type": "execute_result"
    }
   ],
   "source": [
    "# Creating new random tensor\n",
    "new_random_tensor = torch.rand((1, 7))\n",
    "new_random_tensor"
   ]
  },
  {
   "cell_type": "code",
   "execution_count": 5,
   "metadata": {},
   "outputs": [
    {
     "data": {
      "text/plain": [
       "tensor([[1.4290],\n",
       "        [0.8208],\n",
       "        [1.7690],\n",
       "        [2.2696],\n",
       "        [1.5730],\n",
       "        [1.6748],\n",
       "        [1.3421]], device='mps:0')"
      ]
     },
     "execution_count": 5,
     "metadata": {},
     "output_type": "execute_result"
    }
   ],
   "source": [
    "# Storing tensor multiplication\n",
    "tensor_multiplication = random_tensor.matmul(new_random_tensor.T)\n",
    "tensor_multiplication"
   ]
  },
  {
   "cell_type": "markdown",
   "metadata": {},
   "source": [
    "## 4\n",
    "\n",
    "Set the random seed to 0 and do exercises 2 & 3 over again.\n"
   ]
  },
  {
   "cell_type": "code",
   "execution_count": 6,
   "metadata": {},
   "outputs": [
    {
     "data": {
      "text/plain": [
       "(tensor([[8.1718e-01, 5.8811e-01, 5.5805e-01, 7.6914e-01, 3.3936e-01, 4.5596e-01,\n",
       "          6.7508e-01],\n",
       "         [4.4060e-04, 4.0876e-01, 1.7912e-01, 5.9732e-01, 8.4722e-01, 4.6701e-01,\n",
       "          2.0730e-01],\n",
       "         [4.2425e-01, 7.3200e-01, 7.9633e-01, 2.4987e-01, 9.2944e-01, 3.5299e-01,\n",
       "          9.5028e-01],\n",
       "         [6.7541e-01, 7.9429e-01, 5.8153e-01, 3.0577e-02, 7.8344e-01, 8.6078e-01,\n",
       "          8.9267e-01],\n",
       "         [7.6115e-01, 7.6772e-01, 5.8025e-01, 4.3897e-01, 1.9158e-01, 5.0489e-01,\n",
       "          2.6444e-01],\n",
       "         [6.4470e-01, 3.7207e-01, 8.9172e-01, 8.0635e-01, 6.0971e-01, 6.0305e-01,\n",
       "          9.0344e-02],\n",
       "         [9.7051e-01, 8.7768e-01, 6.2648e-02, 1.2800e-01, 2.2489e-01, 8.6703e-01,\n",
       "          5.0311e-01]], device='mps:0'),\n",
       " tensor([[0.8172, 0.5881, 0.5581, 0.7691, 0.3394, 0.4560, 0.6751]],\n",
       "        device='mps:0'))"
      ]
     },
     "execution_count": 6,
     "metadata": {},
     "output_type": "execute_result"
    }
   ],
   "source": [
    "# re-creating random_tensor\n",
    "torch.manual_seed(42)\n",
    "random_tensor = torch.rand((7, 7))\n",
    "\n",
    "# re-creating new_random_tensor\n",
    "torch.manual_seed(42)\n",
    "new_random_tensor = torch.rand((1, 7))\n",
    "\n",
    "random_tensor, new_random_tensor"
   ]
  },
  {
   "cell_type": "code",
   "execution_count": 7,
   "metadata": {},
   "outputs": [
    {
     "data": {
      "text/plain": [
       "tensor([[2.6955],\n",
       "        [1.4405],\n",
       "        [2.5316],\n",
       "        [2.6281],\n",
       "        [2.2087],\n",
       "        [2.4064],\n",
       "        [2.2540]], device='mps:0')"
      ]
     },
     "execution_count": 7,
     "metadata": {},
     "output_type": "execute_result"
    }
   ],
   "source": [
    "# Re-doing multiplication\n",
    "tensor_multiplication = random_tensor.matmul(new_random_tensor.T)\n",
    "tensor_multiplication"
   ]
  },
  {
   "cell_type": "markdown",
   "metadata": {},
   "source": [
    "## 5\n",
    "\n",
    "Speaking of random seeds, we saw how to set it with torch.manual_seed() but is there a GPU equivalent? (hint: you'll need to look into the documentation for torch.cuda for this one). If there is, set the GPU random seed to 1234.\n"
   ]
  },
  {
   "cell_type": "code",
   "execution_count": 8,
   "metadata": {},
   "outputs": [
    {
     "data": {
      "text/plain": [
       "tensor([[[0.4794, 0.7608, 0.8283],\n",
       "         [0.8029, 0.6423, 0.0597]]], device='mps:0')"
      ]
     },
     "execution_count": 8,
     "metadata": {},
     "output_type": "execute_result"
    }
   ],
   "source": [
    "# Setting seed for gpu\n",
    "torch.mps.manual_seed(1234)\n",
    "torch.rand(1, 2, 3)"
   ]
  },
  {
   "cell_type": "markdown",
   "metadata": {},
   "source": [
    "## 6\n",
    "\n",
    "Create two random tensors of shape (2, 3) and send them both to the GPU (you'll need access to a GPU for this). Set torch.manual_seed(1234) when creating the tensors (this doesn't have to be the GPU random seed).\n"
   ]
  },
  {
   "cell_type": "code",
   "execution_count": 9,
   "metadata": {},
   "outputs": [
    {
     "data": {
      "text/plain": [
       "(tensor([[0.4794, 0.7608, 0.8283],\n",
       "         [0.8029, 0.6423, 0.0597]], device='mps:0'),\n",
       " tensor([[0.4794, 0.7608, 0.8283],\n",
       "         [0.8029, 0.6423, 0.0597]], device='mps:0'))"
      ]
     },
     "execution_count": 9,
     "metadata": {},
     "output_type": "execute_result"
    }
   ],
   "source": [
    "# Creating tensors and sending them to gpu\n",
    "torch.mps.manual_seed(1234)\n",
    "a = torch.rand((2, 3))\n",
    "\n",
    "torch.mps.manual_seed(1234)\n",
    "b = torch.rand((2, 3))\n",
    "\n",
    "a, b"
   ]
  },
  {
   "cell_type": "markdown",
   "metadata": {},
   "source": [
    "## 7\n",
    "\n",
    "Perform a matrix multiplication on the tensors you created in 6 (again, you may have to adjust the shapes of one of the tensors).\n"
   ]
  },
  {
   "cell_type": "code",
   "execution_count": 10,
   "metadata": {},
   "outputs": [
    {
     "data": {
      "text/plain": [
       "tensor([[1.4948, 0.9231],\n",
       "        [0.9231, 1.0608]], device='mps:0')"
      ]
     },
     "execution_count": 10,
     "metadata": {},
     "output_type": "execute_result"
    }
   ],
   "source": [
    "# Multiplying tensors\n",
    "c = a.matmul(b.T)\n",
    "\n",
    "c"
   ]
  },
  {
   "cell_type": "markdown",
   "metadata": {},
   "source": [
    "## 8\n",
    "\n",
    "Find the maximum and minimum values of the output of 7.\n"
   ]
  },
  {
   "cell_type": "code",
   "execution_count": 11,
   "metadata": {},
   "outputs": [
    {
     "data": {
      "text/plain": [
       "(tensor(1.4948, device='mps:0'), tensor(0.9231, device='mps:0'))"
      ]
     },
     "execution_count": 11,
     "metadata": {},
     "output_type": "execute_result"
    }
   ],
   "source": [
    "# Getting max\n",
    "c_max = c.max()\n",
    "\n",
    "# Getting min\n",
    "c_min = c.min()\n",
    "\n",
    "c_max, c_min"
   ]
  },
  {
   "cell_type": "markdown",
   "metadata": {},
   "source": [
    "## 9\n",
    "\n",
    "Find the maximum and minimum index values of the output of 7.\n"
   ]
  },
  {
   "cell_type": "code",
   "execution_count": 12,
   "metadata": {},
   "outputs": [
    {
     "data": {
      "text/plain": [
       "(tensor(0, device='mps:0'), tensor(1, device='mps:0'))"
      ]
     },
     "execution_count": 12,
     "metadata": {},
     "output_type": "execute_result"
    }
   ],
   "source": [
    "# Getting max index\n",
    "c_argmax = c.argmax()\n",
    "\n",
    "# Getting min\n",
    "c_argmin = c.argmin()\n",
    "\n",
    "c_argmax, c_argmin"
   ]
  },
  {
   "cell_type": "markdown",
   "metadata": {},
   "source": [
    "## 10\n",
    "\n",
    "Make a random tensor with shape (1, 1, 1, 10) and then create a new tensor with all the 1 dimensions removed to be left with a tensor of shape (10). Set the seed to 7 when you create it and print out the first tensor and it's shape as well as the second tensor and it's shape.\n"
   ]
  },
  {
   "cell_type": "code",
   "execution_count": 17,
   "metadata": {},
   "outputs": [
    {
     "data": {
      "text/plain": [
       "(tensor([[[[0.7544, 0.7100, 0.7095, 0.4036, 0.5627, 0.0098, 0.0498, 0.7344,\n",
       "            0.9472, 0.2643]]]], device='mps:0'),\n",
       " tensor([0.7544, 0.7100, 0.7095, 0.4036, 0.5627, 0.0098, 0.0498, 0.7344, 0.9472,\n",
       "         0.2643], device='mps:0'))"
      ]
     },
     "execution_count": 17,
     "metadata": {},
     "output_type": "execute_result"
    }
   ],
   "source": [
    "# Creating tensor\n",
    "torch.manual_seed(7)\n",
    "tensor = torch.rand((1, 1, 1, 10))\n",
    "\n",
    "# Squeezing tensor\n",
    "tensor_squeezed = tensor.squeeze()\n",
    "\n",
    "tensor, tensor_squeezed"
   ]
  },
  {
   "cell_type": "code",
   "execution_count": 18,
   "metadata": {},
   "outputs": [
    {
     "data": {
      "text/plain": [
       "(torch.Size([1, 1, 1, 10]), torch.Size([10]))"
      ]
     },
     "execution_count": 18,
     "metadata": {},
     "output_type": "execute_result"
    }
   ],
   "source": [
    "tensor.shape, tensor_squeezed.shape"
   ]
  }
 ],
 "metadata": {
  "kernelspec": {
   "display_name": "Python 3",
   "language": "python",
   "name": "python3"
  },
  "language_info": {
   "codemirror_mode": {
    "name": "ipython",
    "version": 3
   },
   "file_extension": ".py",
   "mimetype": "text/x-python",
   "name": "python",
   "nbconvert_exporter": "python",
   "pygments_lexer": "ipython3",
   "version": "3.11.11"
  }
 },
 "nbformat": 4,
 "nbformat_minor": 2
}

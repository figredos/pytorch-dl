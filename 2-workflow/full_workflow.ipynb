{
 "cells": [
  {
   "cell_type": "markdown",
   "id": "0d44cc32",
   "metadata": {},
   "source": [
    "# Full PyTorch Workflow\n",
    "\n",
    "Doing a full workflow in a more straightforward way.\n",
    "\n",
    "1. Data (prepare and load)\n",
    "2. Build model\n",
    "3. Fit model to data (training)\n",
    "4. Making predictions and evaluating a model (inference)\n",
    "5. Saving and loading a model\n"
   ]
  },
  {
   "cell_type": "markdown",
   "id": "69f6cac2",
   "metadata": {},
   "source": [
    "## Setup\n"
   ]
  },
  {
   "cell_type": "code",
   "execution_count": 1,
   "id": "94b619ab",
   "metadata": {},
   "outputs": [],
   "source": [
    "# Importing data\n",
    "\n",
    "# Type hinting\n",
    "from typing import Tuple\n",
    "\n",
    "# Utils\n",
    "import numpy as np\n",
    "from pathlib import Path\n",
    "import matplotlib.pyplot as plt\n",
    "\n",
    "# Torch utils\n",
    "import torch\n",
    "from torch import nn"
   ]
  },
  {
   "cell_type": "code",
   "execution_count": 2,
   "id": "817db044",
   "metadata": {},
   "outputs": [
    {
     "name": "stdout",
     "output_type": "stream",
     "text": [
      "Using device: mps\n"
     ]
    }
   ],
   "source": [
    "# Using gpu if available\n",
    "device = 'mps' if torch.mps.is_available() else 'cpu'\n",
    "print(f'Using device: {device}')"
   ]
  },
  {
   "cell_type": "markdown",
   "id": "f680fa49",
   "metadata": {},
   "source": [
    "### Functions\n"
   ]
  },
  {
   "cell_type": "code",
   "execution_count": 3,
   "id": "220f6512",
   "metadata": {},
   "outputs": [],
   "source": [
    "# Function for visualizing data\n",
    "def plot_model_data(\n",
    "    train_data: torch.Tensor,\n",
    "    train_labels: torch.Tensor,\n",
    "    test_data: torch.Tensor,\n",
    "    test_labels: torch.Tensor,\n",
    "    predictions: torch.Tensor = None,\n",
    "    figsize: Tuple = (10, 7),\n",
    ") -> None:\n",
    "    '''\n",
    "    Plots training data, test data and compares predictions (if not none).\n",
    "    '''\n",
    "\n",
    "    plt.figure(figsize=figsize)\n",
    "\n",
    "    # Training data\n",
    "    plt.scatter(train_data, train_labels, c='r', s=4, label='training_data')\n",
    "\n",
    "    # Testing data\n",
    "    plt.scatter(test_data, test_labels, c='b', s=4, label='testing_data')\n",
    "\n",
    "    # Predictions (if any)\n",
    "    if predictions != None:\n",
    "        plt.scatter(test_data, predictions, c='g', s=4, label='predictions')\n",
    "\n",
    "    # Showing functions\n",
    "    plt.legend()\n",
    "    plt.show"
   ]
  },
  {
   "cell_type": "markdown",
   "id": "2c8495d3",
   "metadata": {},
   "source": [
    "## Creating data\n",
    "\n",
    "Creating data with the linear regression formula ($\\hat{Y} = bX + a$).\n"
   ]
  },
  {
   "cell_type": "code",
   "execution_count": 4,
   "id": "993e80cb",
   "metadata": {},
   "outputs": [],
   "source": [
    "# Creating data\n",
    "weight = 0.8\n",
    "bias = 0.5\n",
    "\n",
    "# Creating range of values\n",
    "start = -5\n",
    "end = 7\n",
    "step = 0.03\n",
    "\n",
    "# Create X and y\n",
    "X = torch.arange(start, end, step).unsqueeze(dim=1)\n",
    "y = weight * X + bias"
   ]
  },
  {
   "cell_type": "code",
   "execution_count": 5,
   "id": "bf9d739f",
   "metadata": {},
   "outputs": [
    {
     "data": {
      "text/plain": [
       "(320, 320, 80, 80)"
      ]
     },
     "execution_count": 5,
     "metadata": {},
     "output_type": "execute_result"
    }
   ],
   "source": [
    "# Split data\n",
    "train_split = int(0.8 * len(X))\n",
    "X_train, y_train = X[:train_split], y[:train_split]\n",
    "X_test, y_test = X[train_split:], y[train_split:]\n",
    "\n",
    "len(X_train), len(y_train), len(X_test), len(y_test)"
   ]
  },
  {
   "cell_type": "code",
   "execution_count": 6,
   "id": "ee5ebce9",
   "metadata": {},
   "outputs": [
    {
     "data": {
      "image/png": "[encoded data removed]",
      "text/plain": [
       "<Figure size 1000x700 with 1 Axes>"
      ]
     },
     "metadata": {},
     "output_type": "display_data"
    }
   ],
   "source": [
    "# Plotting data\n",
    "plot_model_data(X_train, y_train, X_test, y_test)"
   ]
  },
  {
   "cell_type": "markdown",
   "id": "8f5a935e",
   "metadata": {},
   "source": [
    "## Building model\n"
   ]
  },
  {
   "cell_type": "code",
   "execution_count": 7,
   "id": "e0979d53",
   "metadata": {},
   "outputs": [],
   "source": [
    "class LinearRegressionModel(nn.Module):\n",
    "    def __init__(self) -> None:\n",
    "        super().__init__()\n",
    "\n",
    "        # Using nn.Linear() for creating the model's parameters\n",
    "        self.linear_layer = nn.Linear(in_features=1, out_features=1, device=device)\n",
    "\n",
    "    def forward(self, x: torch.Tensor) -> torch.Tensor:\n",
    "        return self.linear_layer(x)"
   ]
  },
  {
   "cell_type": "code",
   "execution_count": 8,
   "id": "d109e458",
   "metadata": {},
   "outputs": [],
   "source": [
    "# Setting manual seed\n",
    "torch.manual_seed(42)\n",
    "\n",
    "# Instantiating model\n",
    "lr_model = LinearRegressionModel()\n",
    "\n",
    "# Instantiating loss function\n",
    "loss_fn = nn.L1Loss()\n",
    "\n",
    "# Instantiating optimizer\n",
    "optimizer = torch.optim.SGD(params=lr_model.parameters(), lr=0.001)"
   ]
  },
  {
   "cell_type": "code",
   "execution_count": 9,
   "id": "c8a5c92c",
   "metadata": {},
   "outputs": [
    {
     "data": {
      "text/plain": [
       "OrderedDict([('linear_layer.weight', tensor([[0.6344]], device='mps:0')),\n",
       "             ('linear_layer.bias', tensor([-0.8678], device='mps:0'))])"
      ]
     },
     "execution_count": 9,
     "metadata": {},
     "output_type": "execute_result"
    }
   ],
   "source": [
    "# Initial state dict\n",
    "lr_model.state_dict()"
   ]
  },
  {
   "cell_type": "markdown",
   "id": "02c3634e",
   "metadata": {},
   "source": [
    "## Training model\n"
   ]
  },
  {
   "cell_type": "code",
   "execution_count": 10,
   "id": "d5d27778",
   "metadata": {},
   "outputs": [
    {
     "name": "stdout",
     "output_type": "stream",
     "text": [
      "| Epoch: 100 | Training loss: 1.2287 | Testing loss: 2.3504 |\n",
      "------------------------------------------------------------\n",
      "| Epoch: 200 | Training loss: 1.1240 | Testing loss: 2.3748 |\n",
      "------------------------------------------------------------\n",
      "| Epoch: 300 | Training loss: 1.0232 | Testing loss: 2.3660 |\n",
      "------------------------------------------------------------\n",
      "| Epoch: 400 | Training loss: 0.9350 | Testing loss: 2.1971 |\n",
      "------------------------------------------------------------\n",
      "| Epoch: 500 | Training loss: 0.8475 | Testing loss: 1.9949 |\n",
      "------------------------------------------------------------\n",
      "| Epoch: 600 | Training loss: 0.7601 | Testing loss: 1.7887 |\n",
      "------------------------------------------------------------\n",
      "| Epoch: 700 | Training loss: 0.6726 | Testing loss: 1.5827 |\n",
      "------------------------------------------------------------\n",
      "| Epoch: 800 | Training loss: 0.5851 | Testing loss: 1.3765 |\n",
      "------------------------------------------------------------\n",
      "| Epoch: 900 | Training loss: 0.4976 | Testing loss: 1.1704 |\n",
      "------------------------------------------------------------\n",
      "| Epoch: 1000 | Training loss: 0.4101 | Testing loss: 0.9643 |\n",
      "------------------------------------------------------------\n",
      "| Epoch: 1100 | Training loss: 0.3227 | Testing loss: 0.7581 |\n",
      "------------------------------------------------------------\n",
      "| Epoch: 1200 | Training loss: 0.2352 | Testing loss: 0.5520 |\n",
      "------------------------------------------------------------\n",
      "| Epoch: 1300 | Training loss: 0.1477 | Testing loss: 0.3460 |\n",
      "------------------------------------------------------------\n",
      "| Epoch: 1400 | Training loss: 0.0602 | Testing loss: 0.1399 |\n",
      "------------------------------------------------------------\n",
      "| Epoch: 1500 | Training loss: 0.0026 | Testing loss: 0.0077 |\n",
      "------------------------------------------------------------\n"
     ]
    }
   ],
   "source": [
    "# Setting number of iterations\n",
    "epochs = 1500\n",
    "\n",
    "# Ensuring data is on the target device\n",
    "X_train_gpu = X_train.to(device)\n",
    "X_test_gpu = X_test.to(device)\n",
    "y_train_gpu = y_train.to(device)\n",
    "y_test_gpu = y_test.to(device)\n",
    "\n",
    "# Data tracking dict\n",
    "data_tracking = {\n",
    "    'train_loss': [],\n",
    "    'test_loss': [],\n",
    "}\n",
    "\n",
    "# Training model\n",
    "for epoch in range(epochs):\n",
    "    lr_model.train()\n",
    "    train_preds = lr_model(X_train_gpu)\n",
    "\n",
    "    training_loss = loss_fn(train_preds, y_train_gpu)\n",
    "    data_tracking['train_loss'].append(training_loss)\n",
    "\n",
    "    optimizer.zero_grad()\n",
    "    training_loss.backward()\n",
    "\n",
    "    optimizer.step()\n",
    "\n",
    "    with torch.inference_mode():\n",
    "        lr_model.eval()\n",
    "        test_preds = lr_model(X_test_gpu)\n",
    "\n",
    "        testing_loss = loss_fn(test_preds, y_test_gpu)\n",
    "        data_tracking['test_loss'].append(testing_loss)\n",
    "\n",
    "    if (epoch + 1) % 100 == 0:\n",
    "        print(\n",
    "            f'| Epoch: {epoch + 1} | Training loss: {training_loss:.4f} | Testing loss: {testing_loss:.4f} |'\n",
    "        )\n",
    "        print('-' * 60)"
   ]
  },
  {
   "cell_type": "code",
   "execution_count": 11,
   "id": "15bc813c",
   "metadata": {},
   "outputs": [
    {
     "data": {
      "text/plain": [
       "OrderedDict([('linear_layer.weight', tensor([[0.8013]], device='mps:0')),\n",
       "             ('linear_layer.bias', tensor([0.5000], device='mps:0'))])"
      ]
     },
     "execution_count": 11,
     "metadata": {},
     "output_type": "execute_result"
    }
   ],
   "source": [
    "# Seeing state dict\n",
    "lr_model.state_dict()"
   ]
  },
  {
   "cell_type": "markdown",
   "id": "3ba7fe49",
   "metadata": {},
   "source": [
    "## Testing Model\n"
   ]
  },
  {
   "cell_type": "code",
   "execution_count": 12,
   "id": "fc3fe307",
   "metadata": {},
   "outputs": [
    {
     "data": {
      "image/png": "[encoded data removed]",
      "text/plain": [
       "<Figure size 1000x500 with 1 Axes>"
      ]
     },
     "metadata": {},
     "output_type": "display_data"
    }
   ],
   "source": [
    "# Plotting predictions\n",
    "with torch.inference_mode():\n",
    "    y_preds = lr_model(X_test_gpu).cpu()\n",
    "    plot_model_data(X_test, y_test, X_test, y_preds, figsize=(10, 5))"
   ]
  },
  {
   "cell_type": "code",
   "execution_count": 13,
   "id": "512288c2",
   "metadata": {},
   "outputs": [],
   "source": [
    "# Turning tensors into arrays\n",
    "train_losses = torch.tensor(data_tracking['train_loss']).cpu().numpy()\n",
    "test_losses = torch.tensor(data_tracking['test_loss']).cpu().numpy()"
   ]
  },
  {
   "cell_type": "code",
   "execution_count": 14,
   "id": "89b64d40",
   "metadata": {},
   "outputs": [
    {
     "data": {
      "image/png": "[encoded data removed]",
      "text/plain": [
       "<Figure size 640x480 with 1 Axes>"
      ]
     },
     "metadata": {},
     "output_type": "display_data"
    }
   ],
   "source": [
    "# Setting epoch range\n",
    "epoch_range = [i for i in range(epochs)]\n",
    "\n",
    "# Plotting loss functions\n",
    "plt.plot(epoch_range, train_losses, label='Train loss')\n",
    "plt.plot(epoch_range, test_losses, label='Test loss')\n",
    "plt.title('Loss values over training epochs')\n",
    "plt.legend()\n",
    "plt.show()"
   ]
  },
  {
   "cell_type": "markdown",
   "id": "8e868517",
   "metadata": {},
   "source": [
    "## Saving and loading model\n"
   ]
  },
  {
   "cell_type": "code",
   "execution_count": 15,
   "id": "3cad8c51",
   "metadata": {},
   "outputs": [
    {
     "data": {
      "text/plain": [
       "PosixPath('models/lr_model.pth')"
      ]
     },
     "execution_count": 15,
     "metadata": {},
     "output_type": "execute_result"
    }
   ],
   "source": [
    "# Creating models directory\n",
    "MODEL_PATH = Path('models')\n",
    "MODEL_PATH.mkdir(parents=True, exist_ok=True)\n",
    "\n",
    "# Creating model save path\n",
    "MODEL_NAME = 'lr_model.pth'\n",
    "MODEL_SAVE_PATH = MODEL_PATH / MODEL_NAME\n",
    "\n",
    "MODEL_SAVE_PATH"
   ]
  },
  {
   "cell_type": "code",
   "execution_count": 16,
   "id": "d1194be2",
   "metadata": {},
   "outputs": [],
   "source": [
    "# Saving model state_dict\n",
    "torch.save(obj=lr_model.state_dict(), f=MODEL_SAVE_PATH)"
   ]
  },
  {
   "cell_type": "code",
   "execution_count": 17,
   "id": "05dc0652",
   "metadata": {},
   "outputs": [
    {
     "data": {
      "text/plain": [
       "<All keys matched successfully>"
      ]
     },
     "execution_count": 17,
     "metadata": {},
     "output_type": "execute_result"
    }
   ],
   "source": [
    "# Loading model\n",
    "model = LinearRegressionModel()\n",
    "model.load_state_dict(torch.load(f=MODEL_SAVE_PATH))"
   ]
  },
  {
   "cell_type": "code",
   "execution_count": 18,
   "id": "60c37f29",
   "metadata": {},
   "outputs": [
    {
     "data": {
      "text/plain": [
       "True"
      ]
     },
     "execution_count": 18,
     "metadata": {},
     "output_type": "execute_result"
    }
   ],
   "source": [
    "# Predicting and checking validity\n",
    "model.eval()\n",
    "with torch.inference_mode():\n",
    "    loaded_lr_preds = model(X_test_gpu).cpu()\n",
    "\n",
    "torch.equal(loaded_lr_preds, y_preds)"
   ]
  }
 ],
 "metadata": {
  "kernelspec": {
   "display_name": "Python 3",
   "language": "python",
   "name": "python3"
  },
  "language_info": {
   "codemirror_mode": {
    "name": "ipython",
    "version": 3
   },
   "file_extension": ".py",
   "mimetype": "text/x-python",
   "name": "python",
   "nbconvert_exporter": "python",
   "pygments_lexer": "ipython3",
   "version": "3.11.11"
  }
 },
 "nbformat": 4,
 "nbformat_minor": 5
}

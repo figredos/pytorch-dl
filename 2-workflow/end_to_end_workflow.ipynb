{
 "cells": [
  {
   "cell_type": "markdown",
   "metadata": {},
   "source": [
    "# An end to end PyTorch workflow\n",
    "\n",
    "1. Data (prepare and load)\n",
    "2. Build model\n",
    "3. Fit model to data (training)\n",
    "4. Making predictions and evaluating a model (inference)\n",
    "5. Saving and loading a model\n"
   ]
  },
  {
   "cell_type": "code",
   "execution_count": 1,
   "metadata": {},
   "outputs": [],
   "source": [
    "# utils\n",
    "import numpy\n",
    "import matplotlib.pyplot as plt\n",
    "\n",
    "from pathlib import Path\n",
    "\n",
    "import torch\n",
    "from torch import nn  # Building blocks for graphs"
   ]
  },
  {
   "cell_type": "markdown",
   "metadata": {},
   "source": [
    "## 1- Creating a Dataset using the Linear Regression Formula\n",
    "\n",
    "Data can be almost anything (in machine learning).\n",
    "\n",
    "- Tabular data (excel, csv, tables in general)\n",
    "- Images\n",
    "- Videos\n",
    "- Audio\n",
    "- DNA\n",
    "- Text\n",
    "\n",
    "The main requirements based on this are to get data into a numerical representation, and build a model to learn patterns in that numerical representation. In this notebook, we'll create some data using the linear regression formula:\n",
    "\n",
    "$$Y = aX + b$$\n",
    "\n",
    "where a is the slope of the line, and b is the y axis intercept. These values are also known as \"weights\" (w) and \"bias\" (b) respectively.\n"
   ]
  },
  {
   "cell_type": "code",
   "execution_count": 2,
   "metadata": {},
   "outputs": [],
   "source": [
    "# Creating known parameters\n",
    "w = 0.7\n",
    "b = 0.3\n",
    "\n",
    "# Create numbers\n",
    "start = 0\n",
    "end = 1\n",
    "step = 0.02\n",
    "\n",
    "X = torch.arange(start, end, step).unsqueeze(1)  # Adding a dimension\n",
    "y = w * X + b"
   ]
  },
  {
   "cell_type": "code",
   "execution_count": 3,
   "metadata": {},
   "outputs": [
    {
     "data": {
      "text/plain": [
       "(torch.Size([50, 1]), torch.Size([50, 1]))"
      ]
     },
     "execution_count": 3,
     "metadata": {},
     "output_type": "execute_result"
    }
   ],
   "source": [
    "# Checking lengths\n",
    "X.shape, y.shape"
   ]
  },
  {
   "cell_type": "markdown",
   "metadata": {},
   "source": [
    "Just as a recap on the importance of dataset splitting, the model shouldn't train and be tested on the same data, it is a biased vision into the generalization ability of a model.\n",
    "\n",
    "In order to check the validity of a model, we split the data into training and test sets and expose the model to them at different times, thus ensuring that the model is able to deal not only with the data it already knows (training data), but also the data it has never encountered before (test data).\n"
   ]
  },
  {
   "cell_type": "code",
   "execution_count": 4,
   "metadata": {},
   "outputs": [],
   "source": [
    "# Splitting data into training and test sets\n",
    "train_split = int(0.8 * len(X))  # Using 80% of the data for training\n",
    "X_train, y_train = X[:train_split], y[:train_split]\n",
    "X_test, y_test = X[train_split:], y[train_split:]"
   ]
  },
  {
   "cell_type": "code",
   "execution_count": 5,
   "metadata": {},
   "outputs": [],
   "source": [
    "# Function for visualizing data\n",
    "def plot_model_data(train_data, train_labels, test_data, test_labels, predictions=None):\n",
    "    '''\n",
    "    Plots training data, test data and compares predictions (if not none).\n",
    "    '''\n",
    "\n",
    "    plt.figure(figsize=(10, 7))\n",
    "\n",
    "    # Training data\n",
    "    plt.scatter(train_data, train_labels, c='r', s=4, label='training_data')\n",
    "\n",
    "    # Testing data\n",
    "    plt.scatter(test_data, test_labels, c='b', s=4, label='testing_data')\n",
    "\n",
    "    # Predictions (if any)\n",
    "    if predictions != None:\n",
    "        plt.scatter(test_data, predictions, c='g', s=4, label='predictions')\n",
    "\n",
    "    # Showing functions\n",
    "    plt.legend()\n",
    "    plt.show"
   ]
  },
  {
   "cell_type": "markdown",
   "metadata": {},
   "source": [
    "## 2- Building a model\n"
   ]
  },
  {
   "cell_type": "markdown",
   "metadata": {},
   "source": [
    "### 2.1- Creating a model to predict linear regression\n",
    "\n",
    "Building a simple model to predict the training data\n"
   ]
  },
  {
   "cell_type": "code",
   "execution_count": 6,
   "metadata": {},
   "outputs": [
    {
     "data": {
      "image/png": "[encoded data removed]",
      "text/plain": [
       "<Figure size 1000x700 with 1 Axes>"
      ]
     },
     "metadata": {},
     "output_type": "display_data"
    }
   ],
   "source": [
    "# Plotting current data\n",
    "plot_model_data(X_train, y_train, X_test, y_test)"
   ]
  },
  {
   "cell_type": "markdown",
   "metadata": {},
   "source": [
    "### 2.2- Building a model with PyTorch\n",
    "\n",
    "The model starts with random values, looks at random data, and adjusts the values to get closer to the ideal values. This is done by using mostly two algorithms:\n",
    "\n",
    "1. Gradient descent\n",
    "2. Backpropagation\n",
    "\n",
    "#### PyTorch model building essentials\n",
    "\n",
    "PyTorch provides the following for helping to build neural networks.\n",
    "\n",
    "- `torch.nn` contains all of the buildings for computational graphs (essentially a series of computations executed in a particular way).\n",
    "\n",
    "- `torch.nn.Parameter` what parameters should our model try and learn, often a PyTorch layer from `torch.nn` will set these automatically.\n",
    "\n",
    "- `torch.nn.Module` the base class for all neural network modules, all the building blocks for neural networks are subclasses. If you're building a neural network in PyTorch, your models should subclass `nn.Module`. Requires a `forward()` method to be implemented.\n",
    "\n",
    "- `torch.optim` Contains various optimization algorithms (tell the model parameters stored in `nn.Parameter` how to best change to improve gradient descent and in turn reduce the loss).\n",
    "\n",
    "- `torch.utils.data.Dataset` represents a map between key (label) and sample (features) pairs of your data.\n",
    "\n",
    "- `torch.utils.data.DataLoader` creates a Python iterable over a torch Dataset (allows iteration over the data).\n"
   ]
  },
  {
   "cell_type": "markdown",
   "metadata": {},
   "source": [
    "#### Defining model\n",
    "\n",
    "The model will represent the following formula:\n",
    "\n",
    "$$Y = aX + b$$\n"
   ]
  },
  {
   "cell_type": "code",
   "execution_count": 7,
   "metadata": {},
   "outputs": [],
   "source": [
    "# Creating linear regression model class\n",
    "class LinearRegressionModel(nn.Module):\n",
    "    def __init__(self) -> None:\n",
    "        super().__init__()  # Initializing parent class\n",
    "\n",
    "        # Defining  Model's weights\n",
    "        self.weights = nn.Parameter(\n",
    "            torch.randn(1, requires_grad=True, dtype=torch.float32)\n",
    "        )\n",
    "\n",
    "        # Defining Model's bias\n",
    "        self.bias = nn.Parameter(\n",
    "            torch.randn(1, requires_grad=True, dtype=torch.float32)\n",
    "        )\n",
    "\n",
    "    # Defining method for computation in the model\n",
    "    def forward(self, x: torch.Tensor) -> torch.Tensor:\n",
    "        return self.weights * x + self.bias"
   ]
  },
  {
   "cell_type": "markdown",
   "metadata": {},
   "source": [
    "#### Checking uninitialized parameters\n"
   ]
  },
  {
   "cell_type": "code",
   "execution_count": 8,
   "metadata": {},
   "outputs": [
    {
     "data": {
      "text/plain": [
       "[Parameter containing:\n",
       " tensor([0.3367], requires_grad=True),\n",
       " Parameter containing:\n",
       " tensor([0.1288], requires_grad=True)]"
      ]
     },
     "execution_count": 8,
     "metadata": {},
     "output_type": "execute_result"
    }
   ],
   "source": [
    "# Looking at the parameters\n",
    "\n",
    "# Creating random seed\n",
    "torch.manual_seed(42)\n",
    "\n",
    "# Creating an instance of the model\n",
    "model_0 = LinearRegressionModel()\n",
    "\n",
    "# Checking parameters\n",
    "list(model_0.parameters())"
   ]
  },
  {
   "cell_type": "code",
   "execution_count": 9,
   "metadata": {},
   "outputs": [
    {
     "data": {
      "text/plain": [
       "OrderedDict([('weights', tensor([0.3367])), ('bias', tensor([0.1288]))])"
      ]
     },
     "execution_count": 9,
     "metadata": {},
     "output_type": "execute_result"
    }
   ],
   "source": [
    "# Listing named parameters\n",
    "model_0.state_dict()"
   ]
  },
  {
   "cell_type": "markdown",
   "metadata": {},
   "source": [
    "#### Making predictions with untrained model\n",
    "\n",
    "The idea here is to use the untrained model and see how well it can predict `y_test` based on `X_test`. Since the model isn't trained, the data will simply go through the forward method (only forward-propagation).\n",
    "\n",
    "We use `with torch.inference_mode()` as a context manager. It disables gradient tracking, meaning PyTorch deals with less data, processing predictions faster.\n",
    "\n",
    "As an alternative, you can use `<model_name>(<test_data>)` and it'll work the same, but it has gradient tracking, meaning it deals with more data, processing predictions slower.\n",
    "\n",
    "Another alternative, that works closer to `inference_mode()` is to substitute this for `no_grad()`, both work very similarly, but the first is faster.\n",
    "\n",
    "In PyTorch predictions are done with `torch.inference_mode()`.\n"
   ]
  },
  {
   "cell_type": "code",
   "execution_count": 10,
   "metadata": {},
   "outputs": [
    {
     "data": {
      "text/plain": [
       "tensor([[0.3982],\n",
       "        [0.4049],\n",
       "        [0.4116],\n",
       "        [0.4184],\n",
       "        [0.4251],\n",
       "        [0.4318],\n",
       "        [0.4386],\n",
       "        [0.4453],\n",
       "        [0.4520],\n",
       "        [0.4588]])"
      ]
     },
     "execution_count": 10,
     "metadata": {},
     "output_type": "execute_result"
    }
   ],
   "source": [
    "# Making predictions with model\n",
    "with torch.inference_mode():\n",
    "    y_preds = model_0(X_test)\n",
    "\n",
    "y_preds"
   ]
  },
  {
   "cell_type": "code",
   "execution_count": 11,
   "metadata": {},
   "outputs": [
    {
     "data": {
      "image/png": "[encoded data removed]",
      "text/plain": [
       "<Figure size 1000x700 with 1 Axes>"
      ]
     },
     "metadata": {},
     "output_type": "display_data"
    }
   ],
   "source": [
    "# Plotting predictions\n",
    "plot_model_data(X_train, y_train, X_test, y_test, y_preds)"
   ]
  },
  {
   "cell_type": "markdown",
   "metadata": {},
   "source": [
    "## 3- Training model\n",
    "\n",
    "The idea of training a model is to move from _unknown_ parameters to _known_ parameters. In other words, from a poor representation of the data to a better one. One way to measure how poor or how wrong your model's predictions are, is to use a loss function (cost functions, or criterion).\n",
    "\n",
    "**_Loss functions_** are functions to measure how wrong a model's predictions are to the ideal outputs, with values of `0` being ideal.\n",
    "\n",
    "Another essential part of training deep learning models, are optimizers. **_Optimizers_** are functions that take the loss of a model into account and adjusts the model's parameters (weights and bias) for a better representation of the data, by improving the value of the loss function.\n",
    "\n",
    "To set these up, you instantiate both your desired loss and optimizer. The optimizer needs to receive the model's parameters (`params`), you can also add a specified learning rate (`lr`) which is a hyperparameter that tells the optimizer how much each step is scaled.\n",
    "\n",
    "In PyTorch, for training we use two loops, a training loop and a testing loop. For the training loop there are a few steps to take:\n",
    "\n",
    "1. Loop through the data.\n",
    "   1. the loop itself `for epoch in range(epochs):`.\n",
    "2. Set the model for training mode.\n",
    "   1. `<model_name>.train()`\n",
    "3. Forward pass (involves data moving through the model's `forward()` functions) to make predictions on data.\n",
    "   1. `<model_name>(<training_data>)`.\n",
    "4. Calculate the loss.\n",
    "   1. `<loss_function>(<label_predictions>, <actual_labels>)`.\n",
    "5. Reset the gradient, since each step accumulates the gradient from the past step (it basically accumulates for increased efficiency and more control).\n",
    "   1. `optimizer.zero_grad()`\n",
    "6. Backpropagation to calculate the gradients of each of the model's parameters with respect to the loss.\n",
    "   1. `optimizer.backward()`\n",
    "7. Gradient descent uses the optimizer to adjust the model's parameters and improve the loss.\n",
    "   1. `optimizer.step()`\n",
    "\n",
    "Epochs set the number of times the data will loop (how many iterations of training/testing).\n",
    "\n",
    "To train a model, you need to set the model to training mode `<model_name>.train()`, it sets all parameters that require gradients to require gradients.\n",
    "\n",
    "To test a model, you need to set the model to testing mode `<model_name>.eval()`, turns of gradient tracking\n"
   ]
  },
  {
   "cell_type": "code",
   "execution_count": 12,
   "metadata": {},
   "outputs": [],
   "source": [
    "# Setting up a loss function\n",
    "loss_fn = nn.L1Loss()\n",
    "\n",
    "# Setting up an optimizer\n",
    "optimizer = torch.optim.SGD(\n",
    "    params=model_0.parameters(),\n",
    "    lr=0.01,\n",
    ")"
   ]
  },
  {
   "cell_type": "code",
   "execution_count": 13,
   "metadata": {},
   "outputs": [
    {
     "name": "stdout",
     "output_type": "stream",
     "text": [
      "Epoch: 0 | Loss: 0.31288135051727295 | Test loss: 0.48106518387794495\n",
      "Epoch: 100 | Loss: 0.024458955973386765 | Test loss: 0.056463055312633514\n"
     ]
    }
   ],
   "source": [
    "# Setting up number of loops\n",
    "epochs = 180\n",
    "\n",
    "# Saving values for tracking\n",
    "epoch_count = []\n",
    "loss_values = []\n",
    "test_loss_values = []\n",
    "\n",
    "\n",
    "# Looping through the data\n",
    "for epoch in range(epochs):\n",
    "    # Saving epoch\n",
    "    epoch_count.append(epoch)\n",
    "\n",
    "    # Setting model to training mode\n",
    "    model_0.train()\n",
    "\n",
    "    # Forward pass\n",
    "    y_pred = model_0(X_train)\n",
    "\n",
    "    # Calculating and saving loss\n",
    "    loss = loss_fn(y_pred, y_train)\n",
    "    loss_values.append(loss)\n",
    "\n",
    "    # Resetting gradient\n",
    "    optimizer.zero_grad()\n",
    "\n",
    "    # Backpropagation\n",
    "    loss.backward()\n",
    "\n",
    "    # Gradient Descent\n",
    "    optimizer.step()\n",
    "\n",
    "    # Setting up testing mode\n",
    "    model_0.eval()\n",
    "\n",
    "    # Evaluating model\n",
    "    with torch.inference_mode():\n",
    "        # Doing forward pass\n",
    "        test_pred = model_0(X_test)\n",
    "\n",
    "        # Calculate loss\n",
    "        test_loss = loss_fn(test_pred, y_test)\n",
    "        test_loss_values.append(test_loss)\n",
    "\n",
    "    # Printing results\n",
    "    if epoch % 100 == 0:\n",
    "        print(f\"Epoch: {epoch} | Loss: {loss} | Test loss: {test_loss}\")"
   ]
  },
  {
   "cell_type": "code",
   "execution_count": 14,
   "metadata": {},
   "outputs": [
    {
     "data": {
      "text/plain": [
       "[Parameter containing:\n",
       " tensor([0.6990], requires_grad=True),\n",
       " Parameter containing:\n",
       " tensor([0.3093], requires_grad=True)]"
      ]
     },
     "execution_count": 14,
     "metadata": {},
     "output_type": "execute_result"
    }
   ],
   "source": [
    "list(model_0.parameters())"
   ]
  },
  {
   "cell_type": "code",
   "execution_count": 15,
   "metadata": {},
   "outputs": [],
   "source": [
    "model_0.eval()\n",
    "\n",
    "y_preds = model_0(X_test)"
   ]
  },
  {
   "cell_type": "markdown",
   "metadata": {},
   "source": [
    "## 4- Evaluating model\n",
    "\n",
    "Here we'll judge the model's performance.\n"
   ]
  },
  {
   "cell_type": "code",
   "execution_count": 16,
   "metadata": {},
   "outputs": [
    {
     "data": {
      "image/png": "[encoded data removed]",
      "text/plain": [
       "<Figure size 1000x700 with 1 Axes>"
      ]
     },
     "metadata": {},
     "output_type": "display_data"
    }
   ],
   "source": [
    "with torch.inference_mode():\n",
    "    plot_model_data(X_train, y_train, X_test, y_test, predictions=y_preds)"
   ]
  },
  {
   "cell_type": "code",
   "execution_count": 17,
   "metadata": {},
   "outputs": [],
   "source": [
    "# Turning tensors to arrays\n",
    "loss_values = torch.tensor(loss_values).cpu().numpy()\n",
    "test_loss_values = torch.tensor(test_loss_values).cpu().numpy()"
   ]
  },
  {
   "cell_type": "code",
   "execution_count": 18,
   "metadata": {},
   "outputs": [
    {
     "data": {
      "image/png": "[encoded data removed]",
      "text/plain": [
       "<Figure size 640x480 with 1 Axes>"
      ]
     },
     "metadata": {},
     "output_type": "display_data"
    }
   ],
   "source": [
    "# Plotting loss curves\n",
    "plt.plot(epoch_count, loss_values, label='Train loss')\n",
    "plt.plot(epoch_count, test_loss_values, label='Test loss')\n",
    "\n",
    "# Plot setup\n",
    "plt.title(\"Training and test loss curves\")\n",
    "plt.ylabel(\"Loss\")\n",
    "plt.xlabel(\"Epochs\")\n",
    "plt.legend()\n",
    "plt.show()"
   ]
  },
  {
   "cell_type": "markdown",
   "metadata": {},
   "source": [
    "## 6- Saving and loading a model\n",
    "\n",
    "[PyTorch saving and loading model](https://docs.pytorch.org/tutorials/beginner/saving_loading_models.html)\n"
   ]
  },
  {
   "cell_type": "markdown",
   "metadata": {},
   "source": [
    "### 6.1- Saving a model\n",
    "\n",
    "The main way of saving models in PyTorch `torch.save`, that allows saving a PyTorch object in Python's `pickle` format\n",
    "\n",
    "PyTorch models have the extension `.pth` or `.pt`.\n",
    "\n",
    "It's recommended to save the model's state dict instead of the whole model.\n"
   ]
  },
  {
   "cell_type": "code",
   "execution_count": 19,
   "metadata": {},
   "outputs": [
    {
     "data": {
      "text/plain": [
       "PosixPath('models/linear_regression_model.pth')"
      ]
     },
     "execution_count": 19,
     "metadata": {},
     "output_type": "execute_result"
    }
   ],
   "source": [
    "# Creating models directory\n",
    "MODEL_PATH = Path('models')\n",
    "MODEL_PATH.mkdir(parents=True, exist_ok=True)\n",
    "\n",
    "# Creating model save path\n",
    "MODEL_NAME = 'linear_regression_model.pth'\n",
    "MODEL_SAVE_PATH = MODEL_PATH / MODEL_NAME\n",
    "\n",
    "MODEL_SAVE_PATH"
   ]
  },
  {
   "cell_type": "code",
   "execution_count": 20,
   "metadata": {},
   "outputs": [],
   "source": [
    "# Saving model state_dict\n",
    "torch.save(obj=model_0.state_dict(), f=MODEL_SAVE_PATH)"
   ]
  },
  {
   "cell_type": "markdown",
   "metadata": {},
   "source": [
    "### 6.2- Loading a model\n",
    "\n",
    "2 main methods for training and loading models in PyTorch:\n",
    "\n",
    "1. `torch.load` - allows loading a saved PyTorch object.\n",
    "2. `torch.nn.Module.load_state_dict()` - allows to load a model's saved state dictionary (mostly for transfer learning).\n",
    "\n",
    "We use the second one in casses where the saved data is not an entire model, but only its state dict (a Python dictionary that maps each layer to its parameter tensor). We do this by following these steps:\n",
    "\n",
    "1. Instantiating the model that was used with the parameters\n",
    "2. Loading the model save file with `torch.load()`.\n",
    "3. Loading the state dict with the output of the previous step.\n"
   ]
  },
  {
   "cell_type": "code",
   "execution_count": 21,
   "metadata": {},
   "outputs": [
    {
     "data": {
      "text/plain": [
       "<All keys matched successfully>"
      ]
     },
     "execution_count": 21,
     "metadata": {},
     "output_type": "execute_result"
    }
   ],
   "source": [
    "# Instantiating the original model\n",
    "loaded_model = LinearRegressionModel()\n",
    "\n",
    "# Loading the state dict\n",
    "loaded_model.load_state_dict(torch.load(MODEL_SAVE_PATH))"
   ]
  },
  {
   "cell_type": "code",
   "execution_count": 22,
   "metadata": {},
   "outputs": [
    {
     "data": {
      "text/plain": [
       "tensor([[True],\n",
       "        [True],\n",
       "        [True],\n",
       "        [True],\n",
       "        [True],\n",
       "        [True],\n",
       "        [True],\n",
       "        [True],\n",
       "        [True],\n",
       "        [True]])"
      ]
     },
     "execution_count": 22,
     "metadata": {},
     "output_type": "execute_result"
    }
   ],
   "source": [
    "# Making predictions\n",
    "loaded_model.eval()\n",
    "with torch.inference_mode():\n",
    "    loaded_model_preds = loaded_model(X_test)\n",
    "\n",
    "loaded_model_preds == y_preds"
   ]
  }
 ],
 "metadata": {
  "kernelspec": {
   "display_name": "Python 3",
   "language": "python",
   "name": "python3"
  },
  "language_info": {
   "codemirror_mode": {
    "name": "ipython",
    "version": 3
   },
   "file_extension": ".py",
   "mimetype": "text/x-python",
   "name": "python",
   "nbconvert_exporter": "python",
   "pygments_lexer": "ipython3",
   "version": "3.11.11"
  }
 },
 "nbformat": 4,
 "nbformat_minor": 2
}

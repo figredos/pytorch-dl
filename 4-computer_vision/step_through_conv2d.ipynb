{
 "cells": [
  {
   "cell_type": "markdown",
   "id": "53868df9",
   "metadata": {},
   "source": [
    "# Stepping through a Conv2D layer in PyTorch\n"
   ]
  },
  {
   "cell_type": "code",
   "execution_count": 46,
   "id": "260f1283",
   "metadata": {},
   "outputs": [],
   "source": [
    "import torch\n",
    "from torch import nn\n",
    "\n",
    "import matplotlib.pyplot as plt"
   ]
  },
  {
   "cell_type": "markdown",
   "id": "46719211",
   "metadata": {},
   "source": [
    "Image sizes in PyTorch should be in the $(N \\times C \\times H \\times W)$, where $N$ is the number of samples in a batch, $C$ is the number of channels of the image, $H$ is the height of the image, and $W$ is its width.\n"
   ]
  },
  {
   "cell_type": "code",
   "execution_count": 47,
   "id": "e7b988fd",
   "metadata": {},
   "outputs": [],
   "source": [
    "# Creating batch of images\n",
    "torch.manual_seed(42)\n",
    "\n",
    "images = torch.randn(size=(32, 3, 64, 64))\n",
    "test_image = images[3]"
   ]
  },
  {
   "cell_type": "markdown",
   "id": "31735473",
   "metadata": {},
   "source": [
    "To use 2D convolutional layers with PyTorch, you use the `Conv2d` class. This class takes in as parameters:\n",
    "\n",
    "- `in_channels` how many channels, color or not, the data has;\n",
    "- `out_channels` as how many channels the data should have after processing;\n",
    "- `kernel_size` that determines the size of the filter that will be applied to the data;\n",
    "- `stride` as the step the kernel takes when being convoluted with an image;\n",
    "- `padding` that sets how (and if) the data will be padded, so that all it can retain its shape (not loosing dimensionality due to the convolution);\n",
    "\n",
    "The layer implements the following calculations on data with input size $(N \\times C_in \\times H \\times W)$ and output $(N \\times C_out \\times H_out \\times W_out)$:\n",
    "\n",
    "$$out(N_i, C_{out_j}) = bias(C_{out_j}) + \\sum^{C_{in} - 1}_{k=0} weight(C_{out_j}, k)\\ \\star input(N_i, k)$$\n"
   ]
  },
  {
   "cell_type": "code",
   "execution_count": 64,
   "id": "40f69f46",
   "metadata": {},
   "outputs": [],
   "source": [
    "# Creating a single conv2d layer\n",
    "conv_layer = nn.Conv2d(\n",
    "    in_channels=3,\n",
    "    out_channels=64,\n",
    "    kernel_size=1,\n",
    "    stride=1,\n",
    "    padding=0,\n",
    ")"
   ]
  },
  {
   "cell_type": "code",
   "execution_count": 65,
   "id": "64f3441e",
   "metadata": {},
   "outputs": [
    {
     "data": {
      "text/plain": [
       "tensor([[[ 5.9413e-01,  1.9613e-01,  2.8785e-02,  ..., -4.2532e-02,\n",
       "          -6.7025e-01,  2.7349e-01],\n",
       "         [-7.5218e-01,  1.0780e+00,  6.9201e-01,  ...,  1.3854e-01,\n",
       "           6.1570e-01, -6.0404e-02],\n",
       "         [-1.5369e-02,  7.7226e-01, -5.1787e-01,  ...,  9.3922e-02,\n",
       "           2.5979e-01,  3.5612e-01],\n",
       "         ...,\n",
       "         [ 8.5510e-01,  1.2370e+00,  1.9383e-01,  ...,  1.4318e+00,\n",
       "           5.2171e-01,  1.7061e-01],\n",
       "         [ 7.1203e-01,  6.3530e-01,  5.6236e-01,  ...,  7.3363e-01,\n",
       "           2.4240e-01,  1.6075e-01],\n",
       "         [ 7.8249e-02,  5.7517e-01, -1.5145e-01,  ...,  1.4655e+00,\n",
       "          -1.7012e-01,  3.3476e-01]],\n",
       "\n",
       "        [[-2.7904e-01,  3.0020e-01,  7.6104e-01,  ...,  6.8994e-01,\n",
       "           1.5211e+00,  2.6651e-01],\n",
       "         [ 1.6111e+00, -8.2789e-01, -4.9834e-01,  ...,  5.1502e-01,\n",
       "          -2.6248e-02,  5.0480e-01],\n",
       "         [ 6.2666e-01, -5.4403e-01,  1.2515e+00,  ...,  3.4028e-01,\n",
       "           1.8912e-01, -3.9081e-02],\n",
       "         ...,\n",
       "         [-5.0821e-01, -1.2228e+00,  1.8867e-01,  ..., -1.4370e+00,\n",
       "          -3.4614e-01,  3.9157e-01],\n",
       "         [-5.1286e-01, -2.4934e-01, -4.4488e-01,  ..., -5.3510e-01,\n",
       "           3.1088e-01,  2.5910e-01],\n",
       "         [ 4.0767e-01, -3.6049e-01,  5.9860e-01,  ..., -1.6034e+00,\n",
       "           4.1767e-01, -7.8807e-02]],\n",
       "\n",
       "        [[-9.2285e-01, -3.6136e-01,  2.4724e-01,  ...,  1.7434e-01,\n",
       "          -8.8929e-01, -5.6382e-01],\n",
       "         [-9.4345e-01,  1.0225e+00, -6.2307e-01,  ...,  1.1922e-01,\n",
       "           2.8193e-01, -1.7489e+00],\n",
       "         [-3.9666e-01, -7.1497e-01, -1.0444e+00,  ..., -1.1779e+00,\n",
       "          -9.5022e-01, -8.3371e-01],\n",
       "         ...,\n",
       "         [-3.8675e-01,  4.0399e-01, -7.9142e-01,  ..., -4.9017e-01,\n",
       "          -1.1694e+00,  4.9204e-02],\n",
       "         [-5.8714e-01,  5.9868e-01, -9.1165e-01,  ..., -5.0180e-01,\n",
       "          -6.0698e-01, -5.1755e-01],\n",
       "         [-1.0416e+00, -1.0454e+00, -1.2560e+00,  ..., -1.3374e+00,\n",
       "          -2.4388e+00, -1.5582e+00]],\n",
       "\n",
       "        ...,\n",
       "\n",
       "        [[-2.7304e-01, -7.5542e-01, -1.5721e+00,  ..., -1.2062e+00,\n",
       "          -1.1363e+00, -8.0894e-01],\n",
       "         [-1.1135e+00, -9.0658e-01, -1.2573e-01,  ..., -1.2531e+00,\n",
       "          -1.2971e+00, -1.0672e-01],\n",
       "         [-9.4348e-01, -1.9608e-01, -8.6345e-01,  ..., -3.1618e-01,\n",
       "          -4.7159e-01, -2.3962e-01],\n",
       "         ...,\n",
       "         [-5.9598e-01, -2.1431e-01, -3.5550e-01,  ...,  6.9960e-02,\n",
       "           1.4399e-01, -1.0327e+00],\n",
       "         [-1.5567e-01, -9.4792e-01,  1.7842e-01,  ..., -1.8858e-01,\n",
       "          -8.1587e-01, -5.2105e-01],\n",
       "         [-4.7358e-01, -4.4448e-04, -2.5016e-01,  ...,  6.4040e-01,\n",
       "           5.9696e-01,  1.4397e-01]],\n",
       "\n",
       "        [[ 3.2589e-01, -6.7686e-01, -1.5117e-01,  ..., -1.3107e+00,\n",
       "          -1.4109e-01,  2.5524e-01],\n",
       "         [-2.6897e-01, -1.8405e+00, -7.4239e-01,  ..., -5.5138e-01,\n",
       "           3.3236e-01,  4.5302e-01],\n",
       "         [-4.9943e-01, -5.7135e-02, -2.0962e-01,  ..., -7.5884e-02,\n",
       "           2.0736e-01, -6.2736e-01],\n",
       "         ...,\n",
       "         [ 5.2886e-01, -1.9567e+00, -7.7690e-01,  ...,  1.0676e-01,\n",
       "          -5.1740e-01, -9.8919e-01],\n",
       "         [-6.9564e-01, -1.6329e+00, -1.2464e+00,  ..., -7.7314e-01,\n",
       "           3.2028e-01, -1.0883e+00],\n",
       "         [ 1.4060e-02, -2.6200e-01, -6.8617e-01,  ...,  7.0914e-01,\n",
       "          -1.7423e-01,  9.9541e-02]],\n",
       "\n",
       "        [[-2.5890e-01, -5.1712e-01, -9.1880e-01,  ..., -7.7542e-01,\n",
       "          -4.0916e-01, -4.8962e-01],\n",
       "         [-3.7907e-01, -1.0198e+00, -3.0043e-01,  ..., -7.9523e-01,\n",
       "          -9.0232e-01,  7.9016e-02],\n",
       "         [-5.4552e-01, -3.0743e-01, -2.9776e-01,  ..., -1.5312e-01,\n",
       "          -2.7969e-01, -2.4623e-01],\n",
       "         ...,\n",
       "         [-5.2949e-01, -6.5434e-01, -2.7704e-01,  ..., -3.5107e-01,\n",
       "          -5.3786e-02, -7.0999e-01],\n",
       "         [-3.2148e-01, -8.7550e-01, -1.1432e-01,  ..., -3.5653e-01,\n",
       "          -4.7728e-01, -3.9781e-01],\n",
       "         [-2.3724e-01, -1.3790e-01, -8.5630e-02,  ...,  4.8411e-02,\n",
       "           4.9522e-01,  6.7435e-02]]], grad_fn=<SqueezeBackward1>)"
      ]
     },
     "execution_count": 65,
     "metadata": {},
     "output_type": "execute_result"
    }
   ],
   "source": [
    "# Running images through conv layer\n",
    "conv_output = conv_layer(test_image)\n",
    "conv_output"
   ]
  },
  {
   "cell_type": "code",
   "execution_count": 66,
   "id": "7d23e1e2",
   "metadata": {},
   "outputs": [
    {
     "data": {
      "text/plain": [
       "torch.Size([64, 64, 64])"
      ]
     },
     "execution_count": 66,
     "metadata": {},
     "output_type": "execute_result"
    }
   ],
   "source": [
    "conv_output.shape"
   ]
  }
 ],
 "metadata": {
  "kernelspec": {
   "display_name": "Python 3",
   "language": "python",
   "name": "python3"
  },
  "language_info": {
   "codemirror_mode": {
    "name": "ipython",
    "version": 3
   },
   "file_extension": ".py",
   "mimetype": "text/x-python",
   "name": "python",
   "nbconvert_exporter": "python",
   "pygments_lexer": "ipython3",
   "version": "3.11.11"
  }
 },
 "nbformat": 4,
 "nbformat_minor": 5
}
